{
  "nbformat": 4,
  "nbformat_minor": 0,
  "metadata": {
    "colab": {
      "provenance": []
    },
    "kernelspec": {
      "name": "python3",
      "display_name": "Python 3"
    }
  },
  "cells": [
    {
      "cell_type": "code",
      "metadata": {
        "id": "R5CI_wHEMCkU"
      },
      "source": [
        "import pandas as pd\n",
        "import matplotlib.pyplot as plt"
      ],
      "execution_count": null,
      "outputs": []
    },
    {
      "cell_type": "code",
      "metadata": {
        "colab": {
          "base_uri": "https://localhost:8080/",
          "height": 198
        },
        "id": "I3ennyRBMRAF",
        "outputId": "30cc1ab5-ccbe-4972-b830-5815de0f21ba"
      },
      "source": [
        "data = pd.read_csv(\"/content/Salary_Data.csv\")\n",
        "data.head()"
      ],
      "execution_count": null,
      "outputs": [
        {
          "output_type": "execute_result",
          "data": {
            "text/html": [
              "<div>\n",
              "<style scoped>\n",
              "    .dataframe tbody tr th:only-of-type {\n",
              "        vertical-align: middle;\n",
              "    }\n",
              "\n",
              "    .dataframe tbody tr th {\n",
              "        vertical-align: top;\n",
              "    }\n",
              "\n",
              "    .dataframe thead th {\n",
              "        text-align: right;\n",
              "    }\n",
              "</style>\n",
              "<table border=\"1\" class=\"dataframe\">\n",
              "  <thead>\n",
              "    <tr style=\"text-align: right;\">\n",
              "      <th></th>\n",
              "      <th>YearsExperience</th>\n",
              "      <th>Salary</th>\n",
              "    </tr>\n",
              "  </thead>\n",
              "  <tbody>\n",
              "    <tr>\n",
              "      <th>0</th>\n",
              "      <td>1.1</td>\n",
              "      <td>39343.0</td>\n",
              "    </tr>\n",
              "    <tr>\n",
              "      <th>1</th>\n",
              "      <td>1.3</td>\n",
              "      <td>46205.0</td>\n",
              "    </tr>\n",
              "    <tr>\n",
              "      <th>2</th>\n",
              "      <td>1.5</td>\n",
              "      <td>37731.0</td>\n",
              "    </tr>\n",
              "    <tr>\n",
              "      <th>3</th>\n",
              "      <td>2.0</td>\n",
              "      <td>43525.0</td>\n",
              "    </tr>\n",
              "    <tr>\n",
              "      <th>4</th>\n",
              "      <td>2.2</td>\n",
              "      <td>39891.0</td>\n",
              "    </tr>\n",
              "  </tbody>\n",
              "</table>\n",
              "</div>"
            ],
            "text/plain": [
              "   YearsExperience   Salary\n",
              "0              1.1  39343.0\n",
              "1              1.3  46205.0\n",
              "2              1.5  37731.0\n",
              "3              2.0  43525.0\n",
              "4              2.2  39891.0"
            ]
          },
          "metadata": {
            "tags": []
          },
          "execution_count": 2
        }
      ]
    },
    {
      "cell_type": "code",
      "metadata": {
        "colab": {
          "base_uri": "https://localhost:8080/"
        },
        "id": "Fuh7-F5XMgZo",
        "outputId": "bf1356c4-ab0d-474b-d5b6-abc760995cd2"
      },
      "source": [
        "data.info()"
      ],
      "execution_count": null,
      "outputs": [
        {
          "output_type": "stream",
          "text": [
            "<class 'pandas.core.frame.DataFrame'>\n",
            "RangeIndex: 30 entries, 0 to 29\n",
            "Data columns (total 2 columns):\n",
            " #   Column           Non-Null Count  Dtype  \n",
            "---  ------           --------------  -----  \n",
            " 0   YearsExperience  30 non-null     float64\n",
            " 1   Salary           30 non-null     float64\n",
            "dtypes: float64(2)\n",
            "memory usage: 608.0 bytes\n"
          ],
          "name": "stdout"
        }
      ]
    },
    {
      "cell_type": "code",
      "metadata": {
        "id": "lWeX4QfrM5te"
      },
      "source": [
        "x = data[['YearsExperience']].values\n",
        "y = data['Salary'].values"
      ],
      "execution_count": null,
      "outputs": []
    },
    {
      "cell_type": "code",
      "metadata": {
        "id": "sJQQVpsiNneE"
      },
      "source": [
        "### the shape of feature should be (no.of samples,no.of feature) - 2 Dimension i.e. (30,1)"
      ],
      "execution_count": null,
      "outputs": []
    },
    {
      "cell_type": "code",
      "metadata": {
        "id": "HuhJWLP_PDdP"
      },
      "source": [
        "#x = data.iloc[:,0].values.reshape(len(data),1)\n",
        "#y = data.iloc[:,1].values"
      ],
      "execution_count": null,
      "outputs": []
    },
    {
      "cell_type": "code",
      "metadata": {
        "colab": {
          "base_uri": "https://localhost:8080/"
        },
        "id": "R0GaNJaRPV4k",
        "outputId": "1e3dbf31-aff6-4216-e32e-3c06dd3f3f7e"
      },
      "source": [
        "len(data)"
      ],
      "execution_count": null,
      "outputs": [
        {
          "output_type": "execute_result",
          "data": {
            "text/plain": [
              "30"
            ]
          },
          "metadata": {
            "tags": []
          },
          "execution_count": 7
        }
      ]
    },
    {
      "cell_type": "code",
      "metadata": {
        "id": "d2qyMF6IP6-G"
      },
      "source": [
        "### Split the data into training and testing samples\n",
        "from sklearn.model_selection import train_test_split\n",
        "xtrain,xtest,ytrain,ytest = train_test_split(x,y,train_size=0.80,random_state=200)"
      ],
      "execution_count": null,
      "outputs": []
    },
    {
      "cell_type": "code",
      "metadata": {
        "colab": {
          "base_uri": "https://localhost:8080/"
        },
        "id": "FXWLlefMRCuQ",
        "outputId": "d0522db4-dee6-4ed6-e638-3a5a235c953c"
      },
      "source": [
        "xtest"
      ],
      "execution_count": null,
      "outputs": [
        {
          "output_type": "execute_result",
          "data": {
            "text/plain": [
              "array([[ 8.7],\n",
              "       [10.5],\n",
              "       [ 1.5],\n",
              "       [ 7.9],\n",
              "       [ 1.1],\n",
              "       [ 5.9]])"
            ]
          },
          "metadata": {
            "tags": []
          },
          "execution_count": 9
        }
      ]
    },
    {
      "cell_type": "code",
      "metadata": {
        "id": "76aekKf-RI6A"
      },
      "source": [
        "### Build the model\n",
        "from sklearn.linear_model import LinearRegression\n",
        "model = LinearRegression()"
      ],
      "execution_count": null,
      "outputs": []
    },
    {
      "cell_type": "code",
      "metadata": {
        "colab": {
          "base_uri": "https://localhost:8080/"
        },
        "id": "0Um4xcsxR_88",
        "outputId": "e501851b-c022-4aac-a609-661c608f56df"
      },
      "source": [
        "### Train the model\n",
        "model.fit(xtrain,ytrain)"
      ],
      "execution_count": null,
      "outputs": [
        {
          "output_type": "execute_result",
          "data": {
            "text/plain": [
              "LinearRegression(copy_X=True, fit_intercept=True, n_jobs=None, normalize=False)"
            ]
          },
          "metadata": {
            "tags": []
          },
          "execution_count": 11
        }
      ]
    },
    {
      "cell_type": "code",
      "metadata": {
        "colab": {
          "base_uri": "https://localhost:8080/"
        },
        "id": "Ui_8sKqbSSw6",
        "outputId": "d11c8a41-8d39-496a-a354-0e16819aa10e"
      },
      "source": [
        "### Test the model\n",
        "ypred = model.predict(xtest)\n",
        "ypred"
      ],
      "execution_count": null,
      "outputs": [
        {
          "output_type": "execute_result",
          "data": {
            "text/plain": [
              "array([108335.56338618, 125509.79795421,  39638.62511404, 100702.57024483,\n",
              "        35822.12854337,  81620.08739146])"
            ]
          },
          "metadata": {
            "tags": []
          },
          "execution_count": 12
        }
      ]
    },
    {
      "cell_type": "code",
      "metadata": {
        "colab": {
          "base_uri": "https://localhost:8080/"
        },
        "id": "WXiGY6mLThlM",
        "outputId": "3cd89c1b-b1e2-40a5-df1c-6c44fa21a94a"
      },
      "source": [
        "ytest"
      ],
      "execution_count": null,
      "outputs": [
        {
          "output_type": "execute_result",
          "data": {
            "text/plain": [
              "array([109431., 121872.,  37731., 101302.,  39343.,  81363.])"
            ]
          },
          "metadata": {
            "tags": []
          },
          "execution_count": 13
        }
      ]
    },
    {
      "cell_type": "code",
      "metadata": {
        "colab": {
          "base_uri": "https://localhost:8080/"
        },
        "id": "LRxkJm-gTzYW",
        "outputId": "aa851af4-641d-4d75-a857-deaad99fdfe7"
      },
      "source": [
        "xtest"
      ],
      "execution_count": null,
      "outputs": [
        {
          "output_type": "execute_result",
          "data": {
            "text/plain": [
              "array([[ 8.7],\n",
              "       [10.5],\n",
              "       [ 1.5],\n",
              "       [ 7.9],\n",
              "       [ 1.1],\n",
              "       [ 5.9]])"
            ]
          },
          "metadata": {
            "tags": []
          },
          "execution_count": 14
        }
      ]
    },
    {
      "cell_type": "code",
      "metadata": {
        "colab": {
          "base_uri": "https://localhost:8080/"
        },
        "id": "PceW3esgT1ck",
        "outputId": "82664274-3189-447b-e0ff-7e3c1d570538"
      },
      "source": [
        "### Calculate R-Square\n",
        "from sklearn.metrics import r2_score\n",
        "score = r2_score(ytest,ypred)\n",
        "score"
      ],
      "execution_count": null,
      "outputs": [
        {
          "output_type": "execute_result",
          "data": {
            "text/plain": [
              "0.9952429110093546"
            ]
          },
          "metadata": {
            "tags": []
          },
          "execution_count": 15
        }
      ]
    },
    {
      "cell_type": "code",
      "metadata": {
        "colab": {
          "base_uri": "https://localhost:8080/",
          "height": 265
        },
        "id": "uEvpguk-U6sI",
        "outputId": "53d22bd6-32b5-4ad9-a172-354531f86da4"
      },
      "source": [
        "### Draw line of regression (Training Samples)\n",
        "plt.scatter(xtrain,ytrain,color=\"blue\",label=\"Actual Points\",s=80)\n",
        "plt.scatter(xtrain,model.predict(xtrain),color=\"red\",label=\"Predicted Points\",s=80)\n",
        "plt.plot(xtrain,model.predict(xtrain),color='yellow',lw=3,label=\"Line of Regression\")\n",
        "plt.legend()\n",
        "plt.show()"
      ],
      "execution_count": null,
      "outputs": [
        {
          "output_type": "display_data",
          "data": {
            "image/png": "[encoded data removed]",
            "text/plain": [
              "<Figure size 432x288 with 1 Axes>"
            ]
          },
          "metadata": {
            "tags": [],
            "needs_background": "light"
          }
        }
      ]
    },
    {
      "cell_type": "code",
      "metadata": {
        "colab": {
          "base_uri": "https://localhost:8080/",
          "height": 265
        },
        "id": "-8f0F_0bWhvK",
        "outputId": "a424bdcf-c4a0-4143-8708-feb01971314d"
      },
      "source": [
        "### Draw line of regression (Testing Samples)\n",
        "plt.scatter(xtest,ytest,color=\"blue\",label=\"Actual Points\",s=80)\n",
        "plt.scatter(xtest,model.predict(xtest),color=\"red\",label=\"Predicted Points\",s=80)\n",
        "plt.plot(xtest,model.predict(xtest),color='yellow',lw=3,label=\"Line of Regression\")\n",
        "plt.legend()\n",
        "plt.show()"
      ],
      "execution_count": null,
      "outputs": [
        {
          "output_type": "display_data",
          "data": {
            "image/png": "[encoded data removed]",
            "text/plain": [
              "<Figure size 432x288 with 1 Axes>"
            ]
          },
          "metadata": {
            "tags": [],
            "needs_background": "light"
          }
        }
      ]
    },
    {
      "cell_type": "code",
      "metadata": {
        "id": "yQM68bhjYjUI"
      },
      "source": [
        "accuracy = []\n",
        "for i in range(501):\n",
        "  xtrain_1,xtest_1,ytrain_1,ytest_1 = train_test_split(x,y,train_size=0.80,random_state=i)\n",
        "  model_1 = LinearRegression()\n",
        "  model_1.fit(xtrain_1,ytrain_1)\n",
        "  ypred_1 = model_1.predict(xtest_1)\n",
        "  score_1 = r2_score(ytest_1,ypred_1)\n",
        "  accuracy.append(score_1)"
      ],
      "execution_count": null,
      "outputs": []
    },
    {
      "cell_type": "code",
      "metadata": {
        "colab": {
          "base_uri": "https://localhost:8080/"
        },
        "id": "x-lKNVQAeGjE",
        "outputId": "0fd73785-d5c6-4495-f26f-4209f0c0d805"
      },
      "source": [
        "import numpy as np\n",
        "print(np.max(accuracy))\n",
        "print(np.argmax(accuracy))"
      ],
      "execution_count": null,
      "outputs": [
        {
          "output_type": "stream",
          "text": [
            "0.9952429110093546\n",
            "200\n"
          ],
          "name": "stdout"
        }
      ]
    },
    {
      "cell_type": "code",
      "metadata": {
        "colab": {
          "base_uri": "https://localhost:8080/"
        },
        "id": "klX6CO2MeIer",
        "outputId": "6eff8ee7-0942-4566-8fb8-e7ce183bece5"
      },
      "source": [
        "model.predict([[15]])[0]"
      ],
      "execution_count": null,
      "outputs": [
        {
          "output_type": "execute_result",
          "data": {
            "text/plain": [
              "168445.38437429562"
            ]
          },
          "metadata": {
            "tags": []
          },
          "execution_count": 20
        }
      ]
    },
    {
      "cell_type": "code",
      "metadata": {
        "id": "OlfzHWzYg-fM"
      },
      "source": [
        "def salary():\n",
        "  exp = float(input(\"Enter Work Experience in Years:\"))\n",
        "  sal = model.predict([[exp]])\n",
        "  print(\"The expected salary would be \"+str(round(sal[0],2)))"
      ],
      "execution_count": null,
      "outputs": []
    },
    {
      "cell_type": "code",
      "metadata": {
        "colab": {
          "base_uri": "https://localhost:8080/"
        },
        "id": "VHzRY07WhlK1",
        "outputId": "f61b4689-36fe-4dbc-cc27-25c3439a751e"
      },
      "source": [
        "salary()"
      ],
      "execution_count": null,
      "outputs": [
        {
          "output_type": "stream",
          "text": [
            "Enter Work Experience in Years:7.5\n",
            "The expected salary would be 96886.07\n"
          ],
          "name": "stdout"
        }
      ]
    },
    {
      "cell_type": "code",
      "metadata": {
        "colab": {
          "base_uri": "https://localhost:8080/"
        },
        "id": "dIqMBd5Rhm-W",
        "outputId": "bba511b6-ccc3-46b5-86d8-26d4965a1cd6"
      },
      "source": [
        "import joblib\n",
        "joblib.dump(model,\"salary.pkl\")"
      ],
      "execution_count": null,
      "outputs": [
        {
          "output_type": "execute_result",
          "data": {
            "text/plain": [
              "['salary.pkl']"
            ]
          },
          "metadata": {
            "tags": []
          },
          "execution_count": 50
        }
      ]
    },
    {
      "cell_type": "code",
      "metadata": {
        "id": "STXY7-ovi9Gv"
      },
      "source": [
        "mymodel = joblib.load(\"/content/salary.pkl\")"
      ],
      "execution_count": null,
      "outputs": []
    },
    {
      "cell_type": "code",
      "metadata": {
        "colab": {
          "base_uri": "https://localhost:8080/"
        },
        "id": "GIxXWhB6jhdG",
        "outputId": "670ef47e-6961-4073-de16-93c288775731"
      },
      "source": [
        "round(mymodel.predict([[15]])[0],2)"
      ],
      "execution_count": null,
      "outputs": [
        {
          "output_type": "execute_result",
          "data": {
            "text/plain": [
              "168445.38"
            ]
          },
          "metadata": {
            "tags": []
          },
          "execution_count": 56
        }
      ]
    },
    {
      "cell_type": "code",
      "metadata": {
        "id": "JT0UTnUujo7Y"
      },
      "source": [],
      "execution_count": null,
      "outputs": []
    }
  ]
}